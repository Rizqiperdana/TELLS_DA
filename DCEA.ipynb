{
  "nbformat": 4,
  "nbformat_minor": 0,
  "metadata": {
    "colab": {
      "provenance": [],
      "authorship_tag": "ABX9TyPFl+4t4VrkkZoxfA8X8XQT",
      "include_colab_link": true
    },
    "kernelspec": {
      "name": "python3",
      "display_name": "Python 3"
    },
    "language_info": {
      "name": "python"
    }
  },
  "cells": [
    {
      "cell_type": "markdown",
      "metadata": {
        "id": "view-in-github",
        "colab_type": "text"
      },
      "source": [
        "<a href=\"https://colab.research.google.com/github/Rizqiperdana/TELLS_DA/blob/main/DCEA.ipynb\" target=\"_parent\"><img src=\"https://colab.research.google.com/assets/colab-badge.svg\" alt=\"Open In Colab\"/></a>"
      ]
    },
    {
      "cell_type": "code",
      "execution_count": null,
      "metadata": {
        "id": "3haEO-UhPze2"
      },
      "outputs": [],
      "source": [
        "import pandas as pd\n",
        "pd.__version__"
      ]
    },
    {
      "cell_type": "code",
      "source": [
        "import requests"
      ],
      "metadata": {
        "id": "pwRK7UKPZkDc"
      },
      "execution_count": null,
      "outputs": []
    },
    {
      "cell_type": "code",
      "source": [
        "url = \"https://github.com/Rizqiperdana/TELLS_DA/blob/main/IKIA_Sales.csv?raw=true\"\n",
        "ikia = pd.read_csv(url, sep=';')"
      ],
      "metadata": {
        "id": "VIqmA1OYQGwn"
      },
      "execution_count": null,
      "outputs": []
    },
    {
      "cell_type": "code",
      "source": [
        "pd.set_option('display.max_columns', None)\n",
        "ikia.head()"
      ],
      "metadata": {
        "id": "anD5TPI3YEfb"
      },
      "execution_count": null,
      "outputs": []
    },
    {
      "cell_type": "code",
      "source": [
        "ikia.head(10)"
      ],
      "metadata": {
        "id": "9CeBrL8k3Dcq"
      },
      "execution_count": null,
      "outputs": []
    },
    {
      "cell_type": "code",
      "source": [
        "ikia.info()"
      ],
      "metadata": {
        "id": "sxqBOBr24w2x"
      },
      "execution_count": null,
      "outputs": []
    }
  ]
}